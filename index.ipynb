{
 "cells": [
  {
   "cell_type": "markdown",
   "metadata": {},
   "source": [
    "# SQL Subqueries - Lab\n",
    "\n",
    "## Introduction\n",
    "\n",
    "Now that you've seen how subqueries work, it's time to get some practice writing them! Not all of the queries will require subqueries, but all will be a bit more complex and require some thought and review about aggregates, grouping, ordering, filtering, joins and subqueries. Good luck!  \n",
    "\n",
    "## Objectives\n",
    "\n",
    "You will be able to:\n",
    "\n",
    "* Write subqueries to decompose complex queries\n",
    "\n",
    "## CRM Database ERD\n",
    "\n",
    "Once again, here's the schema for the CRM database you'll continue to practice with.\n",
    "\n",
    "<img src=\"https://curriculum-content.s3.amazonaws.com/data-science/images/Database-Schema.png\" width=\"600\">\n",
    "\n",
    "## Connect to the Database\n",
    "\n",
    "As usual, start by importing the necessary packages and connecting to the database `data.sqlite`."
   ]
  },
  {
   "cell_type": "code",
   "execution_count": 9,
   "metadata": {},
   "outputs": [],
   "source": [
    "# Your code here; import the necessary packages\n",
    "import sqlite3"
   ]
  },
  {
   "cell_type": "code",
   "execution_count": 10,
   "metadata": {},
   "outputs": [],
   "source": [
    "# Your code here; create the connection\n",
    "conn = sqlite3.connect('data.sqlite')\n",
    "cursor = conn.cursor()"
   ]
  },
  {
   "cell_type": "markdown",
   "metadata": {},
   "source": [
    "## Write an Equivalent Query using a Subquery\n",
    "\n",
    "The following query works using a `JOIN`. Rewrite it so that it uses a subquery instead.\n",
    "\n",
    "```\n",
    "SELECT\n",
    "    customerNumber,\n",
    "    contactLastName,\n",
    "    contactFirstName\n",
    "FROM customers\n",
    "JOIN orders \n",
    "    USING(customerNumber)\n",
    "WHERE orderDate = '2003-01-31'\n",
    ";\n",
    "```"
   ]
  },
  {
   "cell_type": "code",
   "execution_count": 11,
   "metadata": {},
   "outputs": [
    {
     "name": "stdout",
     "output_type": "stream",
     "text": [
      "[(141, 'Freyre', 'Diego ')]\n"
     ]
    }
   ],
   "source": [
    "# Your code here\n",
    "query = \"\"\"\n",
    "SELECT\n",
    "    customerNumber,\n",
    "    contactLastName,\n",
    "    contactFirstName\n",
    "FROM customers\n",
    "WHERE customerNumber IN (\n",
    "    SELECT customerNumber\n",
    "    FROM orders\n",
    "    WHERE orderDate = '2003-01-31'\n",
    ");\n",
    "\"\"\"\n",
    "\n",
    "# Execute the query\n",
    "cursor.execute(query)\n",
    "results = cursor.fetchall()\n",
    "print(results)"
   ]
  },
  {
   "cell_type": "markdown",
   "metadata": {},
   "source": [
    "## Select the Total Number of Orders for Each Product Name\n",
    "\n",
    "Sort the results by the total number of items sold for that product."
   ]
  },
  {
   "cell_type": "code",
   "execution_count": 12,
   "metadata": {},
   "outputs": [
    {
     "name": "stdout",
     "output_type": "stream",
     "text": [
      "[('1992 Ferrari 360 Spider red', 1808), ('1937 Lincoln Berline', 1111), ('American Airlines: MD-11S', 1085), ('1941 Chevrolet Special Deluxe Cabriolet', 1076), ('1930 Buick Marquette Phaeton', 1074), ('1940s Ford truck', 1061), ('1969 Harley Davidson Ultimate Chopper', 1057), ('1957 Chevy Pickup', 1056), ('1964 Mercedes Tour Bus', 1053), ('1956 Porsche 356A Coupe', 1052), ('Corsair F4U ( Bird Cage)', 1051), ('F/A 18 Hornet 1/72', 1047), ('1980s Black Hawk Helicopter', 1040), ('1913 Ford Model T Speedster', 1038), ('1997 BMW R 1100 S', 1033), ('1972 Alfa Romeo GTA', 1030), ('1962 Volkswagen Microbus', 1029), ('2002 Suzuki XREO', 1028), ('The USS Constitution Ship', 1020), ('2001 Ferrari Enzo', 1019), ('1960 BSA Gold Star DBD34', 1015), ('1997 BMW F650 ST', 1014), ('1957 Corvette Convertible', 1013), ('18th century schooner', 1011), ('1900s Vintage Tri-Plane', 1009), ('1996 Moto Guzzi 1100i', 999), ('1940 Ford Pickup Truck', 999), ('1926 Ford Fire Engine', 998), ('1982 Camaro Z28', 997), ('1939 Cadillac Limousine', 995), ('2002 Yamaha YZR M1', 992), ('1969 Dodge Charger', 992), ('1917 Maxwell Touring Car', 992), ('1912 Ford Model T Delivery Wagon', 991), ('1904 Buick Runabout', 990), ('1996 Peterbilt 379 Stake Bed with Outrigger', 988), ('1998 Chrysler Plymouth Prowler', 986), ('2003 Harley-Davidson Eagle Drag Bike', 985), ('1934 Ford V8 Coupe', 985), ('America West Airlines B757-200', 984), ('1958 Chevy Corvette Limited Edition', 983), ('1936 Chrysler Airflow', 983), ('Diamond T620 Semi-Skirted Tanker', 979), ('1970 Dodge Coronet', 976), ('1969 Dodge Super Bee', 974), ('ATA: B757-300', 973), ('1958 Setra Bus', 972), ('1948 Porsche 356-A Roadster', 972), ('1928 Ford Phaeton Deluxe', 972), ('1928 British Royal Navy Airplane', 972), ('1971 Alpine Renault 1600s', 969), ('1999 Yamaha Speed Boat', 966), ('1962 City of Detroit Streetcar', 966), ('1969 Ford Falcon', 965), ('1969 Corvair Monza', 963), ('1952 Alpine Renault 1300', 961), ('Boeing X-32A JSF', 960), ('1936 Mercedes-Benz 500K Special Roadster', 960), ('1957 Vespa GS150', 959), ('Pont Yacht', 958), ('1932 Model A Ford J-Coupe', 957), ('1954 Greyhound Scenicruiser', 955), ('1938 Cadillac V-16 Presidential Limousine', 955), ('The Titanic', 952), ('1949 Jaguar XK 120', 949), ('1948 Porsche Type 356 Roadster', 948), ('1993 Mazda RX-7', 947), ('1982 Ducati 900 Monster', 947), ('1970 Triumph Spitfire', 945), ('1936 Harley Davidson El Knucklehead', 945), ('1961 Chevrolet Impala', 941), ('1900s Vintage Bi-Plane', 940), ('1939 Chevrolet Deluxe Coupe', 937), ('The Schooner Bluenose', 934), (\"1950's Chicago Surface Lines Streetcar\", 934), ('1968 Ford Mustang', 933), ('1962 LanciaA Delta 16V', 932), ('1968 Dodge Charger', 925), ('1940 Ford Delivery Sedan', 923), ('Collectable Wooden Train', 918), ('1917 Grand Touring Sedan', 918), ('P-51-D Mustang', 917), ('1995 Honda Civic', 917), ('1976 Ford Gran Torino', 915), ('1966 Shelby Cobra 427 S/C', 915), ('1965 Aston Martin DB5', 914), ('1982 Lamborghini Diablo', 912), ('1980’s GM Manhattan Express', 911), ('18th Century Vintage Horse Carriage', 907), ('1982 Ducati 996 R', 906), ('1970 Plymouth Hemi Cuda', 900), ('The Mayflower', 898), ('1974 Ducati 350 Mk3 Desmo', 898), ('HMS Bounty', 897), ('The Queen Mary', 896), ('American Airlines: B767-300', 894), ('2002 Chevy Corvette', 894), ('1937 Horch 930V Limousine', 884), ('1903 Ford Model A', 883), ('1928 Mercedes-Benz SSK', 880), ('1952 Citroen-15CV', 873), ('1969 Chevrolet Camaro Z28', 870), ('1992 Porsche Cayenne Turbo Silver', 867), ('1932 Alfa Romeo 8C2300 Spider Sport', 866), ('1999 Indy 500 Monte Carlo SS', 855), ('1911 Ford Town Car', 832), ('1936 Mercedes Benz 500k Roadster', 824), ('1970 Chevy Chevelle SS 454', 803), ('1957 Ford Thunderbird', 767)]\n"
     ]
    }
   ],
   "source": [
    "# Your code here\n",
    "query = \"\"\"\n",
    "SELECT\n",
    "    productName,\n",
    "    SUM(quantityOrdered) AS totalItemsSold\n",
    "FROM products\n",
    "JOIN orderDetails USING (productCode)\n",
    "GROUP BY productName\n",
    "ORDER BY totalItemsSold DESC;\n",
    "\"\"\"\n",
    "\n",
    "# Execute the query\n",
    "cursor.execute(query)\n",
    "results = cursor.fetchall()\n",
    "print(results)\n"
   ]
  },
  {
   "cell_type": "markdown",
   "metadata": {},
   "source": [
    "## Select the Product Name and the  Total Number of People Who Have Ordered Each Product\n",
    "\n",
    "Sort the results in descending order."
   ]
  },
  {
   "cell_type": "markdown",
   "metadata": {},
   "source": [
    "### A quick note on the SQL  `SELECT DISTINCT` statement:"
   ]
  },
  {
   "cell_type": "markdown",
   "metadata": {},
   "source": [
    "The `SELECT DISTINCT` statement is used to return only distinct values in the specified column. In other words, it removes the duplicate values in the column from the result set.\n",
    "\n",
    "Inside a table, a column often contains many duplicate values; and sometimes you only want to list the unique values. If you apply the `DISTINCT` clause to a column that has `NULL`, the `DISTINCT` clause will keep only one NULL and eliminates the other. In other words, the DISTINCT clause treats all `NULL` “values” as the same value."
   ]
  },
  {
   "cell_type": "code",
   "execution_count": 13,
   "metadata": {},
   "outputs": [
    {
     "name": "stdout",
     "output_type": "stream",
     "text": [
      "[('1992 Ferrari 360 Spider red', 40), ('Boeing X-32A JSF', 27), ('1972 Alfa Romeo GTA', 27), ('1952 Alpine Renault 1300', 27), ('1934 Ford V8 Coupe', 27), ('HMS Bounty', 26), ('Corsair F4U ( Bird Cage)', 26), ('American Airlines: MD-11S', 26), ('1999 Yamaha Speed Boat', 26), ('1996 Moto Guzzi 1100i', 26), ('1995 Honda Civic', 26), ('1980s Black Hawk Helicopter', 26), ('1969 Harley Davidson Ultimate Chopper', 26), ('1941 Chevrolet Special Deluxe Cabriolet', 26), ('1940 Ford Delivery Sedan', 26), ('1937 Horch 930V Limousine', 26), ('1913 Ford Model T Speedster', 26), ('1900s Vintage Bi-Plane', 26), ('18th Century Vintage Horse Carriage', 26), ('America West Airlines B757-200', 25), ('ATA: B757-300', 25), ('2003 Harley-Davidson Eagle Drag Bike', 25), ('2002 Suzuki XREO', 25), ('1997 BMW R 1100 S', 25), ('1993 Mazda RX-7', 25), ('1962 LanciaA Delta 16V', 25), ('1960 BSA Gold Star DBD34', 25), ('1948 Porsche 356-A Roadster', 25), ('1940s Ford truck', 25), ('1940 Ford Pickup Truck', 25), ('1937 Lincoln Berline', 25), ('1936 Mercedes-Benz 500K Special Roadster', 25), ('1936 Harley Davidson El Knucklehead', 25), ('1912 Ford Model T Delivery Wagon', 25), ('The Queen Mary', 24), ('Pont Yacht', 24), ('P-51-D Mustang', 24), ('F/A 18 Hornet 1/72', 24), ('2002 Yamaha YZR M1', 24), ('1997 BMW F650 ST', 24), ('1969 Dodge Charger', 24), ('1939 Chevrolet Deluxe Coupe', 24), ('1936 Chrysler Airflow', 24), ('1932 Model A Ford J-Coupe', 24), ('1917 Maxwell Touring Car', 24), ('1917 Grand Touring Sedan', 24), ('18th century schooner', 24), ('The USS Constitution Ship', 23), ('The Schooner Bluenose', 23), ('American Airlines: B767-300', 23), ('2001 Ferrari Enzo', 23), ('1996 Peterbilt 379 Stake Bed with Outrigger', 23), ('1980’s GM Manhattan Express', 23), ('1974 Ducati 350 Mk3 Desmo', 23), ('1970 Plymouth Hemi Cuda', 23), ('1968 Ford Mustang', 23), ('1958 Setra Bus', 23), ('1939 Cadillac Limousine', 23), ('1938 Cadillac V-16 Presidential Limousine', 23), ('1932 Alfa Romeo 8C2300 Spider Sport', 23), ('1930 Buick Marquette Phaeton', 23), ('1928 Ford Phaeton Deluxe', 23), ('1926 Ford Fire Engine', 23), ('1911 Ford Town Car', 23), ('The Titanic', 22), ('The Mayflower', 22), ('Diamond T620 Semi-Skirted Tanker', 22), ('1982 Ducati 900 Monster', 22), ('1982 Camaro Z28', 22), ('1971 Alpine Renault 1600s', 22), ('1969 Ford Falcon', 22), ('1969 Corvair Monza', 22), ('1968 Dodge Charger', 22), ('1965 Aston Martin DB5', 22), ('1964 Mercedes Tour Bus', 22), ('1962 City of Detroit Streetcar', 22), ('1961 Chevrolet Impala', 22), ('1956 Porsche 356A Coupe', 22), (\"1950's Chicago Surface Lines Streetcar\", 22), ('1928 British Royal Navy Airplane', 22), ('1904 Buick Runabout', 22), ('1900s Vintage Tri-Plane', 22), ('1999 Indy 500 Monte Carlo SS', 21), ('1998 Chrysler Plymouth Prowler', 21), ('1982 Lamborghini Diablo', 21), ('1982 Ducati 996 R', 21), ('1970 Triumph Spitfire', 21), ('1969 Dodge Super Bee', 21), ('1966 Shelby Cobra 427 S/C', 21), ('1962 Volkswagen Microbus', 21), ('1957 Vespa GS150', 21), ('1957 Corvette Convertible', 21), ('1957 Chevy Pickup', 21), ('1948 Porsche Type 356 Roadster', 21), ('1936 Mercedes Benz 500k Roadster', 21), ('1928 Mercedes-Benz SSK', 21), ('1903 Ford Model A', 21), ('Collectable Wooden Train', 20), ('1992 Porsche Cayenne Turbo Silver', 20), ('1976 Ford Gran Torino', 20), ('1970 Dodge Coronet', 20), ('1970 Chevy Chevelle SS 454', 20), ('1957 Ford Thunderbird', 20), ('1954 Greyhound Scenicruiser', 20), ('1958 Chevy Corvette Limited Edition', 19), ('2002 Chevy Corvette', 18), ('1969 Chevrolet Camaro Z28', 18), ('1952 Citroen-15CV', 18), ('1949 Jaguar XK 120', 18)]\n"
     ]
    }
   ],
   "source": [
    "# Your code here\n",
    "query = \"\"\"\n",
    "SELECT\n",
    "    productName,\n",
    "    COUNT(DISTINCT customerNumber) AS numCustomers\n",
    "FROM products\n",
    "JOIN orderDetails USING (productCode)\n",
    "JOIN orders USING (orderNumber)\n",
    "GROUP BY productName\n",
    "ORDER BY numCustomers DESC;\n",
    "\"\"\"\n",
    "\n",
    "# Execute the query\n",
    "cursor.execute(query)\n",
    "results = cursor.fetchall()\n",
    "print(results)\n",
    "\n",
    "# Hint: because one of the tables we'll be joining has duplicate customer numbers, you should use DISTINCT"
   ]
  },
  {
   "cell_type": "markdown",
   "metadata": {},
   "source": [
    "## Select the Employee Number, First Name, Last Name, City (of the office), and Office Code of the Employees Who Sold Products That Have Been Ordered by Fewer Than 20 people.\n",
    "\n",
    "This problem is a bit tougher. To start, think about how you might break the problem up. Be sure that your results only list each employee once."
   ]
  },
  {
   "cell_type": "code",
   "execution_count": 16,
   "metadata": {},
   "outputs": [
    {
     "name": "stdout",
     "output_type": "stream",
     "text": [
      "[(1370, 'Gerard', 'Hernandez', 'Paris', 4), (1501, 'Larry', 'Bott', 'London', 7), (1337, 'Loui', 'Bondur', 'Paris', 4), (1166, 'Leslie', 'Thompson', 'San Francisco', 1), (1286, 'Foon Yue', 'Tseng', 'NYC', 3), (1612, 'Peter', 'Marsh', 'Sydney', 6), (1611, 'Andy', 'Fixter', 'Sydney', 6), (1401, 'Pamela', 'Castillo', 'Paris', 4), (1621, 'Mami', 'Nishi', 'Tokyo', 5), (1323, 'George', 'Vanauf', 'NYC', 3), (1165, 'Leslie', 'Jennings', 'San Francisco', 1), (1702, 'Martin', 'Gerard', 'Paris', 4), (1216, 'Steve', 'Patterson', 'Boston', 2), (1188, 'Julie', 'Firrelli', 'Boston', 2), (1504, 'Barry', 'Jones', 'London', 7)]\n"
     ]
    }
   ],
   "source": [
    "# Your code here\n",
    "query = \"\"\"\n",
    "SELECT DISTINCT\n",
    "    e.employeeNumber,\n",
    "    e.firstName,\n",
    "    e.lastName,\n",
    "    o.city AS officeCity,\n",
    "    o.officeCode\n",
    "FROM employees e\n",
    "JOIN offices o ON e.officeCode = o.officeCode\n",
    "JOIN customers c ON e.employeeNumber = c.salesRepEmployeeNumber\n",
    "JOIN orders ord ON c.customerNumber = ord.customerNumber\n",
    "JOIN orderDetails od ON ord.orderNumber = od.orderNumber\n",
    "WHERE od.productCode IN (\n",
    "    SELECT productCode\n",
    "    FROM orderDetails\n",
    "    JOIN orders ON orderDetails.orderNumber = orders.orderNumber\n",
    "    GROUP BY productCode\n",
    "    HAVING COUNT(DISTINCT orders.customerNumber) < 20\n",
    ");\n",
    "\"\"\"\n",
    "\n",
    "# Execute the query\n",
    "cursor.execute(query)\n",
    "results = cursor.fetchall()\n",
    "print(results)\n"
   ]
  },
  {
   "cell_type": "markdown",
   "metadata": {},
   "source": [
    "## Select the Employee Number, First Name, Last Name, and Number of Customers for Employees Whose Customers Have an Average Credit Limit Over 15K"
   ]
  },
  {
   "cell_type": "code",
   "execution_count": 15,
   "metadata": {},
   "outputs": [
    {
     "name": "stdout",
     "output_type": "stream",
     "text": [
      "[(1165, 'Leslie', 'Jennings', 100433.33333333333), (1166, 'Leslie', 'Thompson', 65266.666666666664), (1188, 'Julie', 'Firrelli', 73916.66666666667), (1216, 'Steve', 'Patterson', 81533.33333333333), (1286, 'Foon Yue', 'Tseng', 66614.28571428571), (1323, 'George', 'Vanauf', 80887.5), (1337, 'Loui', 'Bondur', 86233.33333333333), (1370, 'Gerard', 'Hernandez', 91785.71428571429), (1401, 'Pamela', 'Castillo', 81340.0), (1501, 'Larry', 'Bott', 91187.5), (1504, 'Barry', 'Jones', 85511.11111111111), (1611, 'Andy', 'Fixter', 86060.0), (1612, 'Peter', 'Marsh', 92080.0), (1621, 'Mami', 'Nishi', 83900.0), (1702, 'Martin', 'Gerard', 71916.66666666667)]\n"
     ]
    }
   ],
   "source": [
    "# Your code here\n",
    "query = \"\"\"\n",
    "SELECT\n",
    "    e.employeeNumber,\n",
    "    e.firstName,\n",
    "    e.lastName,\n",
    "    AVG(c.creditLimit) AS avgCreditLimit\n",
    "FROM employees e\n",
    "JOIN customers c ON e.employeeNumber = c.salesRepEmployeeNumber\n",
    "GROUP BY e.employeeNumber\n",
    "HAVING AVG(c.creditLimit) > 15000;\n",
    "\"\"\"\n",
    "\n",
    "# Execute the query\n",
    "cursor.execute(query)\n",
    "results = cursor.fetchall()\n",
    "print(results)\n"
   ]
  },
  {
   "cell_type": "markdown",
   "metadata": {},
   "source": [
    "## Summary\n",
    "\n",
    "In this lesson, you got to practice some more complex SQL queries, some of which required subqueries. There's still plenty more SQL to be had though; hope you've been enjoying some of these puzzles!"
   ]
  }
 ],
 "metadata": {
  "kernelspec": {
   "display_name": "Python 3",
   "language": "python",
   "name": "python3"
  },
  "language_info": {
   "codemirror_mode": {
    "name": "ipython",
    "version": 3
   },
   "file_extension": ".py",
   "mimetype": "text/x-python",
   "name": "python",
   "nbconvert_exporter": "python",
   "pygments_lexer": "ipython3",
   "version": "3.8.5"
  },
  "toc": {
   "base_numbering": 1,
   "nav_menu": {},
   "number_sections": true,
   "sideBar": true,
   "skip_h1_title": false,
   "title_cell": "Table of Contents",
   "title_sidebar": "Contents",
   "toc_cell": false,
   "toc_position": {},
   "toc_section_display": true,
   "toc_window_display": false
  }
 },
 "nbformat": 4,
 "nbformat_minor": 2
}
